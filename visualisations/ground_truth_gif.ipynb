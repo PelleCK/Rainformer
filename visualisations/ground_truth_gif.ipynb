{
 "cells": [
  {
   "cell_type": "code",
   "execution_count": 1,
   "metadata": {},
   "outputs": [
    {
     "name": "stdout",
     "output_type": "stream",
     "text": [
      "Pysteps configuration file found at: /vol/knmimo-nobackup/users/pkools/thesis-forecasting/Rainformer/.rainformer_venv/lib/python3.10/site-packages/pysteps/pystepsrc\n",
      "\n"
     ]
    }
   ],
   "source": [
    "# imports\n",
    "import imageio\n",
    "import matplotlib.pyplot as plt\n",
    "import os\n",
    "import numpy as np\n",
    "import h5py\n",
    "\n",
    "from pysteps.visualization.precipfields import get_colormap"
   ]
  },
  {
   "cell_type": "code",
   "execution_count": 4,
   "metadata": {},
   "outputs": [],
   "source": [
    "dir_rtcor = '/vol/knmimo-nobackup/restore/knmimo/thesis_pelle/data/dataset_rtcor_complete/'\n",
    "prefix_rtcor_recent = \"RAD_NL25_RAC_RT_\"\n",
    "\n",
    "output_dir = \"../results/figures\"\n",
    "os.makedirs(output_dir, exist_ok=True)\n",
    "\n",
    "cmap, norm, _, _ = get_colormap('intensity', 'mm/h', 'pysteps')"
   ]
  },
  {
   "cell_type": "code",
   "execution_count": null,
   "metadata": {},
   "outputs": [],
   "source": [
    "# gt_img = f['image1']['image_data'][:]\n",
    "\n",
    "# ## Set pixels out of image to 0\n",
    "# out_of_image = f['image1']['calibration'].attrs['calibration_out_of_image']\n",
    "# gt_img[gt_img == out_of_image] = 0\n",
    "# # Sometimes 255 or other number (244) is used for the calibration\n",
    "# # for out of image values, so also check the first pixel\n",
    "# gt_img[gt_img == gt_img[0][0]] = 0\n",
    "# # set masked values to 0\n",
    "# gt_img[gt_img == 65535] = 0\n",
    "# # Expand dimensions from (w,h) to (w,h,c=1)\n",
    "# # gt_img = np.expand_dims(gt_img, axis=-1)\n",
    "\n",
    "# gt_img = (gt_img/100)*12"
   ]
  },
  {
   "cell_type": "code",
   "execution_count": 7,
   "metadata": {},
   "outputs": [
    {
     "name": "stderr",
     "output_type": "stream",
     "text": [
      "/tmp/ipykernel_1430562/1541438240.py:23: MatplotlibDeprecationWarning: The tostring_rgb function was deprecated in Matplotlib 3.8 and will be removed in 3.10. Use buffer_rgba instead.\n",
      "  image = np.frombuffer(fig.canvas.tostring_rgb(), dtype='uint8')\n"
     ]
    }
   ],
   "source": [
    "timestamps_output = ['202301010120', '202301010125', '202301010130', '202301010135', '202301010140', '202301010145', '202301010150', '202301010155', '202301010200']\n",
    "gt_images = []\n",
    "start_ts = timestamps_output[0]\n",
    "for ts in timestamps_output:\n",
    "    year_dir = os.path.join(dir_rtcor, ts[:4])\n",
    "    filepath = os.path.join(year_dir, f'{prefix_rtcor_recent}{ts}.h5')\n",
    "    with h5py.File(filepath, 'r') as f:\n",
    "        gt_img = f['image1']['image_data'][:]\n",
    "\n",
    "        out_of_image = f['image1']['calibration'].attrs['calibration_out_of_image']\n",
    "        mask = (gt_img != out_of_image) & (gt_img != gt_img[0][0]) & (gt_img != 65535)\n",
    "\n",
    "        gt_img = (gt_img/100)*12\n",
    "\n",
    "        fig, ax = plt.subplots(figsize=(700 / 100, 765 / 100), dpi=100)  # Ensure 1:1 pixel representation\n",
    "        img = np.nan_to_num(gt_img)\n",
    "        img[~mask] = np.nan\n",
    "        ax.imshow(img, cmap=cmap, norm=norm, interpolation='nearest')  # 'nearest' prevents smoothing\n",
    "        ax.set_xlim(0, 700)\n",
    "        ax.set_ylim(765, 0)\n",
    "        ax.axis('off')\n",
    "        fig.canvas.draw()\n",
    "\n",
    "        # Convert plot to image array\n",
    "        image = np.frombuffer(fig.canvas.buffer_rgba(), dtype='uint8')\n",
    "        image = image.reshape(fig.canvas.get_width_height()[::-1] + (4,))\n",
    "        gt_images.append(image)\n",
    "        plt.close(fig)\n",
    "\n",
    "gif_path = os.path.join(output_dir, f\"gt_sample_{start_ts}.gif\")\n",
    "imageio.mimsave(gif_path, gt_images, fps=1)"
   ]
  },
  {
   "cell_type": "code",
   "execution_count": null,
   "metadata": {},
   "outputs": [],
   "source": []
  }
 ],
 "metadata": {
  "kernelspec": {
   "display_name": ".rainformer_venv",
   "language": "python",
   "name": "python3"
  },
  "language_info": {
   "codemirror_mode": {
    "name": "ipython",
    "version": 3
   },
   "file_extension": ".py",
   "mimetype": "text/x-python",
   "name": "python",
   "nbconvert_exporter": "python",
   "pygments_lexer": "ipython3",
   "version": "3.10.12"
  }
 },
 "nbformat": 4,
 "nbformat_minor": 2
}
